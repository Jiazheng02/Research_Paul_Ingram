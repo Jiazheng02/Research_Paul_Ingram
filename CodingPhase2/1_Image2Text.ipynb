{
 "cells": [
  {
   "cell_type": "code",
   "execution_count": 3,
   "metadata": {},
   "outputs": [],
   "source": [
    "import cv2\n",
    "import numpy as np\n",
    "from paddleocr import PaddleOCR, draw_ocr\n",
    "import matplotlib.pyplot as plt"
   ]
  },
  {
   "cell_type": "code",
   "execution_count": 4,
   "metadata": {},
   "outputs": [],
   "source": [
    "# 加载图像\n",
    "image_path = '/Users/jiazhengtian/Desktop/image.png'"
   ]
  },
  {
   "cell_type": "code",
   "execution_count": 5,
   "metadata": {},
   "outputs": [],
   "source": [
    "def boxes_in_image(image_path):\n",
    "    \"\"\"\n",
    "    使用 PaddleOCR 检测图像中的文本框，并返回文本框的坐标、文本和置信度。\n",
    "\n",
    "    参数:\n",
    "        image_path (str): 图像文件的路径。\n",
    "\n",
    "    返回:\n",
    "        boxes (list): 检测到的文本框的四个顶点坐标。\n",
    "        texts (list): 每个文本框的识别文本。\n",
    "        scores (list): 每个文本框的置信度。\n",
    "    \"\"\"\n",
    "    # 初始化 PaddleOCR\n",
    "    ocr = PaddleOCR(use_angle_cls=True, lang=\"en\")\n",
    "\n",
    "    # 读取图像\n",
    "    image = cv2.imread(image_path)\n",
    "    \n",
    "    # 使用 PaddleOCR 检测文本框\n",
    "    result = ocr.ocr(image, cls=True)\n",
    "    \n",
    "    # 提取检测到的文本框\n",
    "    boxes = [line[0] for line in result[0]]  # 每个文本框的四个顶点坐标\n",
    "    texts = [line[1][0] for line in result[0]]  # 每个文本框的识别文本\n",
    "    scores = [line[1][1] for line in result[0]]  # 每个文本框的置信度\n",
    "\n",
    "    return boxes, texts, scores"
   ]
  },
  {
   "cell_type": "code",
   "execution_count": 6,
   "metadata": {},
   "outputs": [
    {
     "name": "stdout",
     "output_type": "stream",
     "text": [
      "[2025/03/27 21:51:48] ppocr DEBUG: Namespace(help='==SUPPRESS==', use_gpu=False, use_xpu=False, use_npu=False, use_mlu=False, use_gcu=False, ir_optim=True, use_tensorrt=False, min_subgraph_size=15, precision='fp32', gpu_mem=500, gpu_id=0, image_dir=None, page_num=0, det_algorithm='DB', det_model_dir='/Users/jiazhengtian/.paddleocr/whl/det/en/en_PP-OCRv3_det_infer', det_limit_side_len=960, det_limit_type='max', det_box_type='quad', det_db_thresh=0.3, det_db_box_thresh=0.6, det_db_unclip_ratio=1.5, max_batch_size=10, use_dilation=False, det_db_score_mode='fast', det_east_score_thresh=0.8, det_east_cover_thresh=0.1, det_east_nms_thresh=0.2, det_sast_score_thresh=0.5, det_sast_nms_thresh=0.2, det_pse_thresh=0, det_pse_box_thresh=0.85, det_pse_min_area=16, det_pse_scale=1, scales=[8, 16, 32], alpha=1.0, beta=1.0, fourier_degree=5, rec_algorithm='SVTR_LCNet', rec_model_dir='/Users/jiazhengtian/.paddleocr/whl/rec/en/en_PP-OCRv4_rec_infer', rec_image_inverse=True, rec_image_shape='3, 48, 320', rec_batch_num=6, max_text_length=25, rec_char_dict_path='/Users/jiazhengtian/anaconda3/envs/myenv/lib/python3.10/site-packages/paddleocr/ppocr/utils/en_dict.txt', use_space_char=True, vis_font_path='./doc/fonts/simfang.ttf', drop_score=0.5, e2e_algorithm='PGNet', e2e_model_dir=None, e2e_limit_side_len=768, e2e_limit_type='max', e2e_pgnet_score_thresh=0.5, e2e_char_dict_path='./ppocr/utils/ic15_dict.txt', e2e_pgnet_valid_set='totaltext', e2e_pgnet_mode='fast', use_angle_cls=True, cls_model_dir='/Users/jiazhengtian/.paddleocr/whl/cls/ch_ppocr_mobile_v2.0_cls_infer', cls_image_shape='3, 48, 192', label_list=['0', '180'], cls_batch_num=6, cls_thresh=0.9, enable_mkldnn=False, cpu_threads=10, use_pdserving=False, warmup=False, sr_model_dir=None, sr_image_shape='3, 32, 128', sr_batch_num=1, draw_img_save_dir='./inference_results', save_crop_res=False, crop_res_save_dir='./output', use_mp=False, total_process_num=1, process_id=0, benchmark=False, save_log_path='./log_output/', show_log=True, use_onnx=False, onnx_providers=False, onnx_sess_options=False, return_word_box=False, output='./output', table_max_len=488, table_algorithm='TableAttn', table_model_dir=None, merge_no_span_structure=True, table_char_dict_path=None, formula_algorithm='LaTeXOCR', formula_model_dir=None, formula_char_dict_path=None, formula_batch_num=1, layout_model_dir=None, layout_dict_path=None, layout_score_threshold=0.5, layout_nms_threshold=0.5, kie_algorithm='LayoutXLM', ser_model_dir=None, re_model_dir=None, use_visual_backbone=True, ser_dict_path='../train_data/XFUND/class_list_xfun.txt', ocr_order_method=None, mode='structure', image_orientation=False, layout=True, table=True, formula=False, ocr=True, recovery=False, recovery_to_markdown=False, use_pdf2docx_api=False, invert=False, binarize=False, alphacolor=(255, 255, 255), lang='en', det=True, rec=True, type='ocr', savefile=False, ocr_version='PP-OCRv4', structure_version='PP-StructureV2')\n",
      "[2025/03/27 21:51:50] ppocr DEBUG: dt_boxes num : 8, elapsed : 0.08988785743713379\n",
      "[2025/03/27 21:51:50] ppocr DEBUG: cls num  : 8, elapsed : 0.0915682315826416\n",
      "[2025/03/27 21:51:51] ppocr DEBUG: rec_res num  : 8, elapsed : 0.9628050327301025\n"
     ]
    },
    {
     "data": {
      "text/plain": [
       "([[[178.0, 11.0], [228.0, 12.0], [228.0, 23.0], [178.0, 22.0]],\n",
       "  [[120.0, 46.0], [149.0, 46.0], [149.0, 62.0], [120.0, 62.0]],\n",
       "  [[249.0, 46.0], [293.0, 46.0], [293.0, 61.0], [249.0, 61.0]],\n",
       "  [[175.0, 87.0], [232.0, 87.0], [232.0, 99.0], [175.0, 99.0]],\n",
       "  [[48.0, 125.0], [90.0, 128.0], [89.0, 139.0], [48.0, 137.0]],\n",
       "  [[183.0, 123.0], [224.0, 126.0], [223.0, 141.0], [182.0, 138.0]],\n",
       "  [[316.0, 126.0], [359.0, 126.0], [359.0, 138.0], [316.0, 138.0]],\n",
       "  [[178.0, 176.0], [228.0, 178.0], [228.0, 189.0], [178.0, 188.0]]],\n",
       " ['Fulfillment',\n",
       "  'Logic',\n",
       "  'Validation',\n",
       "  'Improvement',\n",
       "  'Opeuness',\n",
       "  'Learuing',\n",
       "  'Discipline',\n",
       "  'Enthusiasm'],\n",
       " [0.957951545715332,\n",
       "  0.9427465200424194,\n",
       "  0.9987567067146301,\n",
       "  0.984473466873169,\n",
       "  0.9181888699531555,\n",
       "  0.8832439184188843,\n",
       "  0.9786511659622192,\n",
       "  0.9904979467391968])"
      ]
     },
     "execution_count": 6,
     "metadata": {},
     "output_type": "execute_result"
    }
   ],
   "source": [
    "boxes_in_image(image_path)"
   ]
  },
  {
   "cell_type": "code",
   "execution_count": 7,
   "metadata": {},
   "outputs": [],
   "source": [
    "def boxes_distance(box1, box2):\n",
    "    \"\"\"\n",
    "    计算两个文本框之间的距离。\n",
    "\n",
    "    参数:\n",
    "        box1 (list): 第一个文本框的四个顶点坐标。\n",
    "        box2 (list): 第二个文本框的四个顶点坐标。\n",
    "\n",
    "    返回:\n",
    "        distance (float): 两个文本框中心点之间的欧几里得距离。\n",
    "    \"\"\"\n",
    "    # 计算两个文本框中心点之间的距离\n",
    "    center1 = np.mean(box1, axis=0)  # 第一个文本框的中心点\n",
    "    center2 = np.mean(box2, axis=0)  # 第二个文本框的中心点\n",
    "    return np.linalg.norm(center1 - center2)  # 欧几里得距离"
   ]
  },
  {
   "cell_type": "code",
   "execution_count": 8,
   "metadata": {},
   "outputs": [],
   "source": [
    "def combine_boxes_and_texts(image_path, distance_threshold=30):\n",
    "    \"\"\"\n",
    "    合并图像中相近的文本框和文本。\n",
    "\n",
    "    参数:\n",
    "        image_path (str): 图像文件的路径。\n",
    "        distance_threshold (int): 判断文本框是否相近的距离阈值。\n",
    "\n",
    "    返回:\n",
    "        combined_boxes (list): 合并后的文本框的四个顶点坐标。\n",
    "        combined_texts (list): 合并后的文本框的文本。\n",
    "    \"\"\"\n",
    "    # 使用 PaddleOCR 检测图像中的文本框和文本\n",
    "    boxes, texts, _ = boxes_in_image(image_path)\n",
    "\n",
    "    combined_boxes = []\n",
    "    combined_texts = []\n",
    "    used = [False] * len(boxes)  # 标记是否已经合并\n",
    "\n",
    "    for i in range(len(boxes)):\n",
    "        if used[i]:\n",
    "            continue  # 如果已经合并，跳过\n",
    "\n",
    "        # 初始化当前合并的文本框和文本\n",
    "        current_box = np.array(boxes[i], dtype=int)  # 确保是浮点数\n",
    "        current_text = texts[i]  # 当前文本框的文本\n",
    "        used[i] = True\n",
    "\n",
    "        # 遍历剩余的文本框，检查是否与当前文本框相近\n",
    "        for j in range(i + 1, len(boxes)):\n",
    "            if used[j]:\n",
    "                continue  # 如果已经合并，跳过\n",
    "\n",
    "            # 计算两个文本框之间的距离\n",
    "            distance = boxes_distance(current_box, boxes[j])\n",
    "\n",
    "            # 如果距离小于阈值，合并两个文本框和文本\n",
    "            if distance < distance_threshold:\n",
    "                # 合并两个文本框的顶点\n",
    "                combined_points = np.vstack((current_box, boxes[j]))\n",
    "                combined_points = np.array(combined_points, dtype=int)  # 确保是浮点数\n",
    "\n",
    "                # 确保 combined_points 的点数足够\n",
    "                if len(combined_points) >= 2:\n",
    "                    try:\n",
    "                        # 计算合并后的最小外接矩形\n",
    "                        rect = cv2.minAreaRect(combined_points)\n",
    "                        box_points = cv2.boxPoints(rect)\n",
    "                        current_box = box_points\n",
    "                        # 合并文本\n",
    "                        current_text += \" \" + texts[j]  # 用空格分隔文本\n",
    "                        used[j] = True\n",
    "                    except Exception as e:\n",
    "                        print(f\"Error in cv2.minAreaRect: {e}\")\n",
    "                        continue\n",
    "\n",
    "        # 将合并后的文本框和文本添加到结果中\n",
    "        combined_boxes.append(current_box)\n",
    "        combined_texts.append(current_text)\n",
    "\n",
    "    return combined_boxes, combined_texts"
   ]
  },
  {
   "cell_type": "code",
   "execution_count": 9,
   "metadata": {},
   "outputs": [
    {
     "name": "stdout",
     "output_type": "stream",
     "text": [
      "[2025/03/27 21:52:01] ppocr DEBUG: Namespace(help='==SUPPRESS==', use_gpu=False, use_xpu=False, use_npu=False, use_mlu=False, use_gcu=False, ir_optim=True, use_tensorrt=False, min_subgraph_size=15, precision='fp32', gpu_mem=500, gpu_id=0, image_dir=None, page_num=0, det_algorithm='DB', det_model_dir='/Users/jiazhengtian/.paddleocr/whl/det/en/en_PP-OCRv3_det_infer', det_limit_side_len=960, det_limit_type='max', det_box_type='quad', det_db_thresh=0.3, det_db_box_thresh=0.6, det_db_unclip_ratio=1.5, max_batch_size=10, use_dilation=False, det_db_score_mode='fast', det_east_score_thresh=0.8, det_east_cover_thresh=0.1, det_east_nms_thresh=0.2, det_sast_score_thresh=0.5, det_sast_nms_thresh=0.2, det_pse_thresh=0, det_pse_box_thresh=0.85, det_pse_min_area=16, det_pse_scale=1, scales=[8, 16, 32], alpha=1.0, beta=1.0, fourier_degree=5, rec_algorithm='SVTR_LCNet', rec_model_dir='/Users/jiazhengtian/.paddleocr/whl/rec/en/en_PP-OCRv4_rec_infer', rec_image_inverse=True, rec_image_shape='3, 48, 320', rec_batch_num=6, max_text_length=25, rec_char_dict_path='/Users/jiazhengtian/anaconda3/envs/myenv/lib/python3.10/site-packages/paddleocr/ppocr/utils/en_dict.txt', use_space_char=True, vis_font_path='./doc/fonts/simfang.ttf', drop_score=0.5, e2e_algorithm='PGNet', e2e_model_dir=None, e2e_limit_side_len=768, e2e_limit_type='max', e2e_pgnet_score_thresh=0.5, e2e_char_dict_path='./ppocr/utils/ic15_dict.txt', e2e_pgnet_valid_set='totaltext', e2e_pgnet_mode='fast', use_angle_cls=True, cls_model_dir='/Users/jiazhengtian/.paddleocr/whl/cls/ch_ppocr_mobile_v2.0_cls_infer', cls_image_shape='3, 48, 192', label_list=['0', '180'], cls_batch_num=6, cls_thresh=0.9, enable_mkldnn=False, cpu_threads=10, use_pdserving=False, warmup=False, sr_model_dir=None, sr_image_shape='3, 32, 128', sr_batch_num=1, draw_img_save_dir='./inference_results', save_crop_res=False, crop_res_save_dir='./output', use_mp=False, total_process_num=1, process_id=0, benchmark=False, save_log_path='./log_output/', show_log=True, use_onnx=False, onnx_providers=False, onnx_sess_options=False, return_word_box=False, output='./output', table_max_len=488, table_algorithm='TableAttn', table_model_dir=None, merge_no_span_structure=True, table_char_dict_path=None, formula_algorithm='LaTeXOCR', formula_model_dir=None, formula_char_dict_path=None, formula_batch_num=1, layout_model_dir=None, layout_dict_path=None, layout_score_threshold=0.5, layout_nms_threshold=0.5, kie_algorithm='LayoutXLM', ser_model_dir=None, re_model_dir=None, use_visual_backbone=True, ser_dict_path='../train_data/XFUND/class_list_xfun.txt', ocr_order_method=None, mode='structure', image_orientation=False, layout=True, table=True, formula=False, ocr=True, recovery=False, recovery_to_markdown=False, use_pdf2docx_api=False, invert=False, binarize=False, alphacolor=(255, 255, 255), lang='en', det=True, rec=True, type='ocr', savefile=False, ocr_version='PP-OCRv4', structure_version='PP-StructureV2')\n",
      "[2025/03/27 21:52:03] ppocr DEBUG: dt_boxes num : 8, elapsed : 0.09682416915893555\n",
      "[2025/03/27 21:52:03] ppocr DEBUG: cls num  : 8, elapsed : 0.0988626480102539\n",
      "[2025/03/27 21:52:04] ppocr DEBUG: rec_res num  : 8, elapsed : 0.9097540378570557\n"
     ]
    },
    {
     "data": {
      "image/png": "[encoded data removed]",
      "text/plain": [
       "<Figure size 640x480 with 1 Axes>"
      ]
     },
     "metadata": {},
     "output_type": "display_data"
    },
    {
     "name": "stdout",
     "output_type": "stream",
     "text": [
      "合并后检测到 7 个文本框\n"
     ]
    }
   ],
   "source": [
    "# 合并相近的文本框和文本\n",
    "combined_boxes, combined_texts = combine_boxes_and_texts(image_path, distance_threshold=40)\n",
    "\n",
    "# 绘制合并后的文本框\n",
    "output_image = cv2.imread(image_path)  # 加载原始图像\n",
    "for box in combined_boxes:\n",
    "    box = np.array(box, dtype=np.int32)  # 将浮点数坐标转换为整数\n",
    "    cv2.polylines(output_image, [box], isClosed=True, color=(0, 255, 0), thickness=2)  # 绘制绿色文本框\n",
    "\n",
    "# 显示结果\n",
    "plt.imshow(cv2.cvtColor(output_image, cv2.COLOR_BGR2RGB))\n",
    "plt.axis('off')\n",
    "plt.show()\n",
    "\n",
    "# 输出合并后的文本框数量\n",
    "print(f\"合并后检测到 {len(combined_boxes)} 个文本框\")\n"
   ]
  },
  {
   "cell_type": "code",
   "execution_count": 10,
   "metadata": {},
   "outputs": [
    {
     "data": {
      "text/plain": [
       "([array([[178,  11],\n",
       "         [228,  12],\n",
       "         [228,  23],\n",
       "         [178,  22]]),\n",
       "  array([[120,  46],\n",
       "         [149,  46],\n",
       "         [149,  62],\n",
       "         [120,  62]]),\n",
       "  array([[249,  46],\n",
       "         [293,  46],\n",
       "         [293,  61],\n",
       "         [249,  61]]),\n",
       "  array([[175.,  87.],\n",
       "         [232.,  87.],\n",
       "         [232., 141.],\n",
       "         [175., 141.]], dtype=float32),\n",
       "  array([[ 48, 125],\n",
       "         [ 90, 128],\n",
       "         [ 89, 139],\n",
       "         [ 48, 137]]),\n",
       "  array([[316, 126],\n",
       "         [359, 126],\n",
       "         [359, 138],\n",
       "         [316, 138]]),\n",
       "  array([[178, 176],\n",
       "         [228, 178],\n",
       "         [228, 189],\n",
       "         [178, 188]])],\n",
       " ['Fulfillment',\n",
       "  'Logic',\n",
       "  'Validation',\n",
       "  'Improvement Learuing',\n",
       "  'Opeuness',\n",
       "  'Discipline',\n",
       "  'Enthusiasm'])"
      ]
     },
     "execution_count": 10,
     "metadata": {},
     "output_type": "execute_result"
    }
   ],
   "source": [
    "combined_boxes, combined_texts"
   ]
  },
  {
   "cell_type": "markdown",
   "metadata": {},
   "source": [
    "# Module"
   ]
  },
  {
   "cell_type": "code",
   "execution_count": 11,
   "metadata": {},
   "outputs": [],
   "source": [
    "class TextBoxesDetector:\n",
    "    \"\"\"\n",
    "    A class to process text boxes detected in an image using PaddleOCR.\n",
    "    It provides methods to extract, merge, and filter text boxes.\n",
    "    \"\"\"\n",
    "\n",
    "    def __init__(self, image_path, distance_threshold=40):\n",
    "        \"\"\"\n",
    "        Initializes the text box processor.\n",
    "        \n",
    "        :param image_path: Path to the image to process.\n",
    "        :param distance_threshold: Maximum distance between two text boxes to be merged.\n",
    "        \"\"\"\n",
    "        self.image_path = image_path\n",
    "        self.distance_threshold = distance_threshold\n",
    "\n",
    "        # Load image\n",
    "        self.image = cv2.imread(image_path)\n",
    "        \n",
    "        # Initialize PaddleOCR\n",
    "        self.ocr = PaddleOCR(use_angle_cls=True, lang=\"en\")\n",
    "        \n",
    "        # Extract initial text boxes\n",
    "        self.boxes, self.texts, self.scores = self._extract_text_boxes()\n",
    "\n",
    "    def _extract_text_boxes(self):\n",
    "        \"\"\"\n",
    "        Extract text boxes, recognized texts, and confidence scores using PaddleOCR.\n",
    "\n",
    "        :return: Tuple of (boxes, texts, scores).\n",
    "        \"\"\"\n",
    "        result = self.ocr.ocr(self.image, cls=True)\n",
    "        \n",
    "        # Extract bounding boxes, recognized text, and confidence scores\n",
    "        boxes = [line[0] for line in result[0]]  # Detected text regions\n",
    "        texts = [line[1][0] for line in result[0]]  # Recognized texts\n",
    "        scores = [line[1][1] for line in result[0]]  # Confidence scores\n",
    "\n",
    "        return boxes, texts, scores\n",
    "\n",
    "    def _boxes_distance(self, box1, box2):\n",
    "        \"\"\"\n",
    "        Compute the Euclidean distance between the centers of two text boxes.\n",
    "\n",
    "        :param box1: Coordinates of the first text box.\n",
    "        :param box2: Coordinates of the second text box.\n",
    "        :return: Euclidean distance between the two box centers.\n",
    "        \"\"\"\n",
    "        center1 = np.mean(box1, axis=0)  # Center of first box\n",
    "        center2 = np.mean(box2, axis=0)  # Center of second box\n",
    "\n",
    "        return np.linalg.norm(center1 - center2)  # Euclidean distance\n",
    "    \n",
    "    def combine_boxes_and_texts(self):\n",
    "        \"\"\"\n",
    "        Merge close text boxes and concatenate their texts if within the distance threshold.\n",
    "        \n",
    "        :return: Dictionary {tuple(box_coordinates): merged_text}, where:\n",
    "                - Key: Bounding box tuple ((x1, y1), (x2, y2), (x3, y3), (x4, y4))\n",
    "                - Value: Merged text for that bounding box\n",
    "        \"\"\"\n",
    "        combined_dict = {}  # Store box coordinates and text mapping\n",
    "        used = [False] * len(self.boxes)\n",
    "\n",
    "        for i in range(len(self.boxes)):\n",
    "            if used[i]:\n",
    "                continue  # Skip already merged boxes\n",
    "\n",
    "            # Initialize current box and text\n",
    "            current_box = np.array(self.boxes[i], dtype=int)\n",
    "            current_text = [self.texts[i]]  # Store text as a list to append later\n",
    "            used[i] = True  # Mark as merged\n",
    "\n",
    "            for j in range(i + 1, len(self.boxes)):\n",
    "                if used[j]:\n",
    "                    continue\n",
    "\n",
    "                # Compute the distance between boxes\n",
    "                distance = self._boxes_distance(current_box, self.boxes[j])\n",
    "\n",
    "                # Merge if within threshold\n",
    "                if distance < self.distance_threshold:\n",
    "                    # Combine box coordinates\n",
    "                    combined_points = np.vstack((current_box, self.boxes[j]))\n",
    "                    combined_points = np.array(combined_points, dtype=int)\n",
    "\n",
    "                    # Ensure valid bounding box\n",
    "                    if len(combined_points) >= 2:\n",
    "                        try:\n",
    "                            rect = cv2.minAreaRect(combined_points)\n",
    "                            current_box = cv2.boxPoints(rect)  # Get the updated box\n",
    "\n",
    "                            # Merge text\n",
    "                            current_text.append(self.texts[j])  # Append the text\n",
    "                            used[j] = True\n",
    "                        except Exception as e:\n",
    "                            print(f\"Error in cv2.minAreaRect: {e}\")\n",
    "                            continue\n",
    "\n",
    "            # Convert NumPy array to a tuple (so it can be used as a dictionary key)\n",
    "            box_tuple = tuple(map(tuple, current_box))  # Convert to ((x1, y1), (x2, y2), ...)\n",
    "            combined_dict[box_tuple] = \" \".join(current_text)  # Store as key-value pair\n",
    "\n",
    "        return combined_dict"
   ]
  },
  {
   "cell_type": "code",
   "execution_count": 12,
   "metadata": {},
   "outputs": [
    {
     "name": "stdout",
     "output_type": "stream",
     "text": [
      "[2025/03/27 21:52:12] ppocr DEBUG: Namespace(help='==SUPPRESS==', use_gpu=False, use_xpu=False, use_npu=False, use_mlu=False, use_gcu=False, ir_optim=True, use_tensorrt=False, min_subgraph_size=15, precision='fp32', gpu_mem=500, gpu_id=0, image_dir=None, page_num=0, det_algorithm='DB', det_model_dir='/Users/jiazhengtian/.paddleocr/whl/det/en/en_PP-OCRv3_det_infer', det_limit_side_len=960, det_limit_type='max', det_box_type='quad', det_db_thresh=0.3, det_db_box_thresh=0.6, det_db_unclip_ratio=1.5, max_batch_size=10, use_dilation=False, det_db_score_mode='fast', det_east_score_thresh=0.8, det_east_cover_thresh=0.1, det_east_nms_thresh=0.2, det_sast_score_thresh=0.5, det_sast_nms_thresh=0.2, det_pse_thresh=0, det_pse_box_thresh=0.85, det_pse_min_area=16, det_pse_scale=1, scales=[8, 16, 32], alpha=1.0, beta=1.0, fourier_degree=5, rec_algorithm='SVTR_LCNet', rec_model_dir='/Users/jiazhengtian/.paddleocr/whl/rec/en/en_PP-OCRv4_rec_infer', rec_image_inverse=True, rec_image_shape='3, 48, 320', rec_batch_num=6, max_text_length=25, rec_char_dict_path='/Users/jiazhengtian/anaconda3/envs/myenv/lib/python3.10/site-packages/paddleocr/ppocr/utils/en_dict.txt', use_space_char=True, vis_font_path='./doc/fonts/simfang.ttf', drop_score=0.5, e2e_algorithm='PGNet', e2e_model_dir=None, e2e_limit_side_len=768, e2e_limit_type='max', e2e_pgnet_score_thresh=0.5, e2e_char_dict_path='./ppocr/utils/ic15_dict.txt', e2e_pgnet_valid_set='totaltext', e2e_pgnet_mode='fast', use_angle_cls=True, cls_model_dir='/Users/jiazhengtian/.paddleocr/whl/cls/ch_ppocr_mobile_v2.0_cls_infer', cls_image_shape='3, 48, 192', label_list=['0', '180'], cls_batch_num=6, cls_thresh=0.9, enable_mkldnn=False, cpu_threads=10, use_pdserving=False, warmup=False, sr_model_dir=None, sr_image_shape='3, 32, 128', sr_batch_num=1, draw_img_save_dir='./inference_results', save_crop_res=False, crop_res_save_dir='./output', use_mp=False, total_process_num=1, process_id=0, benchmark=False, save_log_path='./log_output/', show_log=True, use_onnx=False, onnx_providers=False, onnx_sess_options=False, return_word_box=False, output='./output', table_max_len=488, table_algorithm='TableAttn', table_model_dir=None, merge_no_span_structure=True, table_char_dict_path=None, formula_algorithm='LaTeXOCR', formula_model_dir=None, formula_char_dict_path=None, formula_batch_num=1, layout_model_dir=None, layout_dict_path=None, layout_score_threshold=0.5, layout_nms_threshold=0.5, kie_algorithm='LayoutXLM', ser_model_dir=None, re_model_dir=None, use_visual_backbone=True, ser_dict_path='../train_data/XFUND/class_list_xfun.txt', ocr_order_method=None, mode='structure', image_orientation=False, layout=True, table=True, formula=False, ocr=True, recovery=False, recovery_to_markdown=False, use_pdf2docx_api=False, invert=False, binarize=False, alphacolor=(255, 255, 255), lang='en', det=True, rec=True, type='ocr', savefile=False, ocr_version='PP-OCRv4', structure_version='PP-StructureV2')\n",
      "[2025/03/27 21:52:14] ppocr DEBUG: dt_boxes num : 8, elapsed : 0.10019302368164062\n",
      "[2025/03/27 21:52:14] ppocr DEBUG: cls num  : 8, elapsed : 0.0862579345703125\n",
      "[2025/03/27 21:52:15] ppocr DEBUG: rec_res num  : 8, elapsed : 0.892268180847168\n"
     ]
    }
   ],
   "source": [
    "textboxes = TextBoxesDetector(image_path)"
   ]
  },
  {
   "cell_type": "code",
   "execution_count": 13,
   "metadata": {},
   "outputs": [],
   "source": [
    "combined_dict = textboxes.combine_boxes_and_texts()"
   ]
  },
  {
   "cell_type": "code",
   "execution_count": 14,
   "metadata": {},
   "outputs": [
    {
     "name": "stdout",
     "output_type": "stream",
     "text": [
      "Text: Fulfillment\n",
      "Bounding box coordinates: ((np.int64(178), np.int64(11)), (np.int64(228), np.int64(12)), (np.int64(228), np.int64(23)), (np.int64(178), np.int64(22)))\n",
      "\n",
      "Text: Logic\n",
      "Bounding box coordinates: ((np.int64(120), np.int64(46)), (np.int64(149), np.int64(46)), (np.int64(149), np.int64(62)), (np.int64(120), np.int64(62)))\n",
      "\n",
      "Text: Validation\n",
      "Bounding box coordinates: ((np.int64(249), np.int64(46)), (np.int64(293), np.int64(46)), (np.int64(293), np.int64(61)), (np.int64(249), np.int64(61)))\n",
      "\n",
      "Text: Improvement Learuing\n",
      "Bounding box coordinates: ((np.float32(175.0), np.float32(87.0)), (np.float32(232.0), np.float32(87.0)), (np.float32(232.0), np.float32(141.0)), (np.float32(175.0), np.float32(141.0)))\n",
      "\n",
      "Text: Opeuness\n",
      "Bounding box coordinates: ((np.int64(48), np.int64(125)), (np.int64(90), np.int64(128)), (np.int64(89), np.int64(139)), (np.int64(48), np.int64(137)))\n",
      "\n",
      "Text: Discipline\n",
      "Bounding box coordinates: ((np.int64(316), np.int64(126)), (np.int64(359), np.int64(126)), (np.int64(359), np.int64(138)), (np.int64(316), np.int64(138)))\n",
      "\n",
      "Text: Enthusiasm\n",
      "Bounding box coordinates: ((np.int64(178), np.int64(176)), (np.int64(228), np.int64(178)), (np.int64(228), np.int64(189)), (np.int64(178), np.int64(188)))\n",
      "\n"
     ]
    }
   ],
   "source": [
    "for locs, text in combined_dict.items():\n",
    "    print(f\"Text: {text}\")\n",
    "    print(f\"Bounding box coordinates: {locs}\\n\")"
   ]
  },
  {
   "cell_type": "code",
   "execution_count": null,
   "metadata": {},
   "outputs": [],
   "source": []
  }
 ],
 "metadata": {
  "kernelspec": {
   "display_name": "myenv",
   "language": "python",
   "name": "python3"
  },
  "language_info": {
   "codemirror_mode": {
    "name": "ipython",
    "version": 3
   },
   "file_extension": ".py",
   "mimetype": "text/x-python",
   "name": "python",
   "nbconvert_exporter": "python",
   "pygments_lexer": "ipython3",
   "version": "3.10.16"
  }
 },
 "nbformat": 4,
 "nbformat_minor": 2
}
