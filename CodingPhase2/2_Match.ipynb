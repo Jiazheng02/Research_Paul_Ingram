{
 "cells": [
  {
   "cell_type": "code",
   "execution_count": 2,
   "metadata": {},
   "outputs": [],
   "source": [
    "import cv2\n",
    "import numpy as np\n",
    "import LinesProcessor\n",
    "import BoxesContour"
   ]
  },
  {
   "cell_type": "code",
   "execution_count": null,
   "metadata": {},
   "outputs": [
    {
     "name": "stdout",
     "output_type": "stream",
     "text": [
      "[2025/03/19 14:54:42] ppocr DEBUG: Namespace(help='==SUPPRESS==', use_gpu=False, use_xpu=False, use_npu=False, use_mlu=False, use_gcu=False, ir_optim=True, use_tensorrt=False, min_subgraph_size=15, precision='fp32', gpu_mem=500, gpu_id=0, image_dir=None, page_num=0, det_algorithm='DB', det_model_dir='/Users/jiazhengtian/.paddleocr/whl/det/en/en_PP-OCRv3_det_infer', det_limit_side_len=960, det_limit_type='max', det_box_type='quad', det_db_thresh=0.3, det_db_box_thresh=0.6, det_db_unclip_ratio=1.5, max_batch_size=10, use_dilation=False, det_db_score_mode='fast', det_east_score_thresh=0.8, det_east_cover_thresh=0.1, det_east_nms_thresh=0.2, det_sast_score_thresh=0.5, det_sast_nms_thresh=0.2, det_pse_thresh=0, det_pse_box_thresh=0.85, det_pse_min_area=16, det_pse_scale=1, scales=[8, 16, 32], alpha=1.0, beta=1.0, fourier_degree=5, rec_algorithm='SVTR_LCNet', rec_model_dir='/Users/jiazhengtian/.paddleocr/whl/rec/en/en_PP-OCRv4_rec_infer', rec_image_inverse=True, rec_image_shape='3, 48, 320', rec_batch_num=6, max_text_length=25, rec_char_dict_path='/Users/jiazhengtian/anaconda3/lib/python3.10/site-packages/paddleocr/ppocr/utils/en_dict.txt', use_space_char=True, vis_font_path='./doc/fonts/simfang.ttf', drop_score=0.5, e2e_algorithm='PGNet', e2e_model_dir=None, e2e_limit_side_len=768, e2e_limit_type='max', e2e_pgnet_score_thresh=0.5, e2e_char_dict_path='./ppocr/utils/ic15_dict.txt', e2e_pgnet_valid_set='totaltext', e2e_pgnet_mode='fast', use_angle_cls=True, cls_model_dir='/Users/jiazhengtian/.paddleocr/whl/cls/ch_ppocr_mobile_v2.0_cls_infer', cls_image_shape='3, 48, 192', label_list=['0', '180'], cls_batch_num=6, cls_thresh=0.9, enable_mkldnn=False, cpu_threads=10, use_pdserving=False, warmup=False, sr_model_dir=None, sr_image_shape='3, 32, 128', sr_batch_num=1, draw_img_save_dir='./inference_results', save_crop_res=False, crop_res_save_dir='./output', use_mp=False, total_process_num=1, process_id=0, benchmark=False, save_log_path='./log_output/', show_log=True, use_onnx=False, onnx_providers=False, onnx_sess_options=False, return_word_box=False, output='./output', table_max_len=488, table_algorithm='TableAttn', table_model_dir=None, merge_no_span_structure=True, table_char_dict_path=None, formula_algorithm='LaTeXOCR', formula_model_dir=None, formula_char_dict_path=None, formula_batch_num=1, layout_model_dir=None, layout_dict_path=None, layout_score_threshold=0.5, layout_nms_threshold=0.5, kie_algorithm='LayoutXLM', ser_model_dir=None, re_model_dir=None, use_visual_backbone=True, ser_dict_path='../train_data/XFUND/class_list_xfun.txt', ocr_order_method=None, mode='structure', image_orientation=False, layout=True, table=True, formula=False, ocr=True, recovery=False, recovery_to_markdown=False, use_pdf2docx_api=False, invert=False, binarize=False, alphacolor=(255, 255, 255), lang='en', det=True, rec=True, type='ocr', savefile=False, ocr_version='PP-OCRv4', structure_version='PP-StructureV2')\n",
      "[2025/03/19 14:54:44] ppocr DEBUG: dt_boxes num : 9, elapsed : 0.2830629348754883\n",
      "[2025/03/19 14:54:44] ppocr DEBUG: cls num  : 9, elapsed : 0.10519075393676758\n",
      "[2025/03/19 14:54:45] ppocr DEBUG: rec_res num  : 9, elapsed : 1.0189366340637207\n"
     ]
    }
   ],
   "source": [
    "image_path = 'image1.png'\n",
    "combined_dict = BoxesContour.combined_dict()"
   ]
  },
  {
   "cell_type": "code",
   "execution_count": 3,
   "metadata": {},
   "outputs": [
    {
     "data": {
      "text/plain": [
       "{((274.0, 24.0), (304.0, 24.0), (304.0, 39.0), (274.0, 39.0)): 'Zen',\n",
       " ((169.0, 126.0), (226.0, 126.0), (226.0, 144.0), (169.0, 144.0)): 'Growth',\n",
       " ((341.99997, 159.0),\n",
       "  (341.99997, 119.0),\n",
       "  (466.99997, 119.0),\n",
       "  (466.99997, 159.0)): 'Connectedto the universe',\n",
       " ((30.0, 201.0), (104.0, 205.0), (103.0, 222.0), (29.0, 217.0)): 'Discovery',\n",
       " ((185.0, 213.0), (244.0, 216.0), (243.0, 234.0), (184.0, 230.0)): 'Bravery',\n",
       " ((304.0, 230.0), (359.0, 234.0), (358.0, 251.0), (302.0, 248.0)): 'Ecstasy',\n",
       " ((492.0, 243.0), (530.0, 243.0), (530.0, 258.0), (492.0, 258.0)): 'Calm',\n",
       " ((253.0, 339.0), (319.0, 339.0), (319.0, 356.0), (253.0, 356.0)): 'Strength'}"
      ]
     },
     "execution_count": 3,
     "metadata": {},
     "output_type": "execute_result"
    }
   ],
   "source": [
    "combined_dict"
   ]
  },
  {
   "cell_type": "code",
   "execution_count": 4,
   "metadata": {},
   "outputs": [
    {
     "data": {
      "text/plain": [
       "8"
      ]
     },
     "execution_count": 4,
     "metadata": {},
     "output_type": "execute_result"
    }
   ],
   "source": [
    "num_boxes = len(combined_dict)\n",
    "num_boxes"
   ]
  },
  {
   "cell_type": "code",
   "execution_count": 5,
   "metadata": {},
   "outputs": [],
   "source": [
    "lines = LinesDetector(image_path)\n",
    "unique_lines = lines.find_lines()"
   ]
  },
  {
   "cell_type": "code",
   "execution_count": 6,
   "metadata": {},
   "outputs": [
    {
     "data": {
      "text/plain": [
       "[(1, 0, 1, 370),\n",
       " (3, 372, 565, 372),\n",
       " (243, 106, 255, 15),\n",
       " (209, 195, 205, 153),\n",
       " (390, 177, 343, 216),\n",
       " (470, 271, 354, 329),\n",
       " (434, 177, 478, 224),\n",
       " (122, 250, 246, 328),\n",
       " (160, 152, 115, 187),\n",
       " (250, 251, 275, 328),\n",
       " (255, 64, 239, 107),\n",
       " (313, 328, 347, 274),\n",
       " (320, 63, 342, 101)]"
      ]
     },
     "execution_count": 6,
     "metadata": {},
     "output_type": "execute_result"
    }
   ],
   "source": [
    "unique_lines"
   ]
  },
  {
   "cell_type": "code",
   "execution_count": 7,
   "metadata": {},
   "outputs": [],
   "source": [
    "relations = RelationshipMatcher(combined_dict, unique_lines)"
   ]
  },
  {
   "cell_type": "code",
   "execution_count": 26,
   "metadata": {},
   "outputs": [
    {
     "data": {
      "text/plain": [
       "[('Strength', 'Discovery'),\n",
       " ('Strength', 'Bravery'),\n",
       " ('Strength', 'Calm'),\n",
       " ('Strength', 'Ecstasy'),\n",
       " ('Calm', 'Discovery'),\n",
       " ('Calm', 'Connectedto the universe'),\n",
       " ('Ecstasy', 'Connectedto the universe'),\n",
       " ('Bravery', 'Growth'),\n",
       " ('Discovery', 'Growth'),\n",
       " ('Connectedto the universe', 'Zen'),\n",
       " ('Growth', 'Zen')]"
      ]
     },
     "execution_count": 26,
     "metadata": {},
     "output_type": "execute_result"
    }
   ],
   "source": [
    "relations.match_relationships()"
   ]
  }
 ],
 "metadata": {
  "kernelspec": {
   "display_name": "myenv",
   "language": "python",
   "name": "python3"
  },
  "language_info": {
   "codemirror_mode": {
    "name": "ipython",
    "version": 3
   },
   "file_extension": ".py",
   "mimetype": "text/x-python",
   "name": "python",
   "nbconvert_exporter": "python",
   "pygments_lexer": "ipython3",
   "version": "3.10.16"
  }
 },
 "nbformat": 4,
 "nbformat_minor": 2
}
