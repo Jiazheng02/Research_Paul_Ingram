{
 "cells": [
  {
   "cell_type": "code",
   "execution_count": 2,
   "id": "2bb4cf6e",
   "metadata": {},
   "outputs": [],
   "source": [
    "import os\n",
    "import pandas as pd\n",
    "from CombinedFunction import process_pptx_to_dataframe"
   ]
  },
  {
   "cell_type": "code",
   "execution_count": 17,
   "id": "b982ad2f",
   "metadata": {},
   "outputs": [],
   "source": [
    "id_path = \"/Users/jiazhengtian/Desktop/Research/Paul Ingram_25.2.21/values for coding/combined id_ego thru fall 24.xlsx\""
   ]
  },
  {
   "cell_type": "code",
   "execution_count": 18,
   "id": "6a93bb5d",
   "metadata": {},
   "outputs": [],
   "source": [
    "paths = [\n",
    "    \"/Users/jiazhengtian/Desktop/2022 G values2.pptx\",\n",
    "]"
   ]
  },
  {
   "cell_type": "code",
   "execution_count": 19,
   "id": "b15ee027",
   "metadata": {},
   "outputs": [],
   "source": [
    "df_total = []\n",
    "for pptx_path in paths:\n",
    "    df = process_pptx_to_dataframe(pptx_path, id_path)\n",
    "    df_total.append(df)\n"
   ]
  },
  {
   "cell_type": "code",
   "execution_count": 20,
   "id": "ddb2ce3f",
   "metadata": {},
   "outputs": [],
   "source": [
    "df_total = pd.concat(df_total, ignore_index = True)"
   ]
  },
  {
   "cell_type": "code",
   "execution_count": 16,
   "id": "60487097",
   "metadata": {},
   "outputs": [
    {
     "data": {
      "text/html": [
       "<div>\n",
       "<style scoped>\n",
       "    .dataframe tbody tr th:only-of-type {\n",
       "        vertical-align: middle;\n",
       "    }\n",
       "\n",
       "    .dataframe tbody tr th {\n",
       "        vertical-align: top;\n",
       "    }\n",
       "\n",
       "    .dataframe thead th {\n",
       "        text-align: right;\n",
       "    }\n",
       "</style>\n",
       "<table border=\"1\" class=\"dataframe\">\n",
       "  <thead>\n",
       "    <tr style=\"text-align: right;\">\n",
       "      <th></th>\n",
       "      <th>id_ego</th>\n",
       "      <th>Person Name</th>\n",
       "      <th>From</th>\n",
       "      <th>To</th>\n",
       "      <th>NoMeaningfulEdges</th>\n",
       "      <th>Slide Number</th>\n",
       "    </tr>\n",
       "  </thead>\n",
       "  <tbody>\n",
       "    <tr>\n",
       "      <th>0</th>\n",
       "      <td>NaN</td>\n",
       "      <td>Belal Abzakh</td>\n",
       "      <td>Gratification</td>\n",
       "      <td>Bliss</td>\n",
       "      <td>0</td>\n",
       "      <td>1</td>\n",
       "    </tr>\n",
       "    <tr>\n",
       "      <th>1</th>\n",
       "      <td>NaN</td>\n",
       "      <td>Belal Abzakh</td>\n",
       "      <td>Relationships</td>\n",
       "      <td>Gratification</td>\n",
       "      <td>0</td>\n",
       "      <td>1</td>\n",
       "    </tr>\n",
       "    <tr>\n",
       "      <th>2</th>\n",
       "      <td>NaN</td>\n",
       "      <td>Belal Abzakh</td>\n",
       "      <td>Grit</td>\n",
       "      <td>Gratification</td>\n",
       "      <td>0</td>\n",
       "      <td>1</td>\n",
       "    </tr>\n",
       "    <tr>\n",
       "      <th>3</th>\n",
       "      <td>NaN</td>\n",
       "      <td>Belal Abzakh</td>\n",
       "      <td>Character</td>\n",
       "      <td>Gratification</td>\n",
       "      <td>0</td>\n",
       "      <td>1</td>\n",
       "    </tr>\n",
       "    <tr>\n",
       "      <th>4</th>\n",
       "      <td>NaN</td>\n",
       "      <td>Belal Abzakh</td>\n",
       "      <td>Wisdom</td>\n",
       "      <td>Character</td>\n",
       "      <td>0</td>\n",
       "      <td>1</td>\n",
       "    </tr>\n",
       "    <tr>\n",
       "      <th>5</th>\n",
       "      <td>NaN</td>\n",
       "      <td>Belal Abzakh</td>\n",
       "      <td>Golden rule</td>\n",
       "      <td>Relationships</td>\n",
       "      <td>0</td>\n",
       "      <td>1</td>\n",
       "    </tr>\n",
       "    <tr>\n",
       "      <th>6</th>\n",
       "      <td>NaN</td>\n",
       "      <td>Belal Abzakh</td>\n",
       "      <td>Charity</td>\n",
       "      <td>Relationships</td>\n",
       "      <td>0</td>\n",
       "      <td>1</td>\n",
       "    </tr>\n",
       "  </tbody>\n",
       "</table>\n",
       "</div>"
      ],
      "text/plain": [
       "   id_ego   Person Name           From             To  NoMeaningfulEdges  \\\n",
       "0     NaN  Belal Abzakh  Gratification          Bliss                  0   \n",
       "1     NaN  Belal Abzakh  Relationships  Gratification                  0   \n",
       "2     NaN  Belal Abzakh           Grit  Gratification                  0   \n",
       "3     NaN  Belal Abzakh      Character  Gratification                  0   \n",
       "4     NaN  Belal Abzakh         Wisdom      Character                  0   \n",
       "5     NaN  Belal Abzakh    Golden rule  Relationships                  0   \n",
       "6     NaN  Belal Abzakh        Charity  Relationships                  0   \n",
       "\n",
       "   Slide Number  \n",
       "0             1  \n",
       "1             1  \n",
       "2             1  \n",
       "3             1  \n",
       "4             1  \n",
       "5             1  \n",
       "6             1  "
      ]
     },
     "execution_count": 16,
     "metadata": {},
     "output_type": "execute_result"
    }
   ],
   "source": [
    "df_total"
   ]
  },
  {
   "cell_type": "code",
   "execution_count": null,
   "id": "242b9d7d",
   "metadata": {},
   "outputs": [],
   "source": [
    "\n",
    "df_total.to_excel(\"/Users/jiazhengtian/Desktop/relation.xlsx\")"
   ]
  },
  {
   "cell_type": "code",
   "execution_count": 9,
   "id": "a6a6c8cd",
   "metadata": {},
   "outputs": [],
   "source": [
    "for pptx_path in paths:\n",
    "\n",
    "    df = process_pptx_to_dataframe(pptx_path, id_path)\n",
    "    \n",
    "    # Remove file extension from pptx_path to avoid \".pptx.xlsx\"\n",
    "    output_filename = os.path.splitext(os.path.basename(pptx_path))[0] + \"_extracted.xlsx\"\n",
    "    \n",
    "    output_path = f\"/Users/jiazhengtian/Desktop/Research/Paul Ingram_25.2.21/Extracted Data/{output_filename}\"\n",
    "    \n",
    "    # df.to_excel(output_path, index=False, engine=\"openpyxl\")"
   ]
  }
 ],
 "metadata": {
  "kernelspec": {
   "display_name": "base",
   "language": "python",
   "name": "python3"
  },
  "language_info": {
   "codemirror_mode": {
    "name": "ipython",
    "version": 3
   },
   "file_extension": ".py",
   "mimetype": "text/x-python",
   "name": "python",
   "nbconvert_exporter": "python",
   "pygments_lexer": "ipython3",
   "version": "3.10.9"
  }
 },
 "nbformat": 4,
 "nbformat_minor": 5
}
