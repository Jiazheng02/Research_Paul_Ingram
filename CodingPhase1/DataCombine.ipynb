{
 "cells": [
  {
   "cell_type": "code",
   "id": "beed7204",
   "metadata": {
    "jupyter": {
     "is_executing": true
    }
   },
   "source": [
    "import pandas as pd"
   ],
   "outputs": [],
   "execution_count": null
  },
  {
   "cell_type": "code",
   "id": "dc8e41d4",
   "metadata": {
    "jupyter": {
     "is_executing": true
    }
   },
   "source": [
    "paths = [\n",
    "    \"/Users/jiazhengtian/Desktop/Research/Paul Ingram_25.2.21/Extracted Data/2024 A values_extracted_c.xlsx\",\n",
    "    \"/Users/jiazhengtian/Desktop/Research/Paul Ingram_25.2.21/Extracted Data/2024 B values_extracted_c.xlsx\",\n",
    "    \"/Users/jiazhengtian/Desktop/Research/Paul Ingram_25.2.21/Extracted Data/2024 E values_extracted_c.xlsx\",\n",
    "    \"/Users/jiazhengtian/Desktop/Research/Paul Ingram_25.2.21/Extracted Data/2024 G values_extracted_c.xlsx\",\n",
    "    \"/Users/jiazhengtian/Desktop/Research/Paul Ingram_25.2.21/Extracted Data/2024 M values_extracted_c.xlsx\"\n",
    "]"
   ],
   "outputs": [],
   "execution_count": null
  },
  {
   "cell_type": "code",
   "id": "a11eafc2",
   "metadata": {
    "jupyter": {
     "is_executing": true
    }
   },
   "source": [
    "data_combine = []\n",
    "for excel_path in paths:\n",
    "    df = pd.read_excel(excel_path)\n",
    "    data_combine.append(df)\n",
    "\n",
    "data_combine = pd.concat(data_combine, ignore_index = True)\n",
    "data_combine"
   ],
   "outputs": [],
   "execution_count": null
  },
  {
   "cell_type": "code",
   "execution_count": 14,
   "id": "2ab00c1a",
   "metadata": {},
   "outputs": [],
   "source": [
    "# data_combine.to_excel(\"Combined_data.xlsx\")"
   ]
  }
 ],
 "metadata": {
  "kernelspec": {
   "display_name": "Python 3 (ipykernel)",
   "language": "python",
   "name": "python3"
  },
  "language_info": {
   "codemirror_mode": {
    "name": "ipython",
    "version": 3
   },
   "file_extension": ".py",
   "mimetype": "text/x-python",
   "name": "python",
   "nbconvert_exporter": "python",
   "pygments_lexer": "ipython3",
   "version": "3.10.9"
  }
 },
 "nbformat": 4,
 "nbformat_minor": 5
}
