{
 "cells": [
  {
   "cell_type": "code",
   "execution_count": 2,
   "id": "21fa762d",
   "metadata": {},
   "outputs": [],
   "source": [
    "from pptx import Presentation\n",
    "from pptx.enum.shapes import MSO_SHAPE_TYPE\n",
    "from pptx.shapes.connector import Connector"
   ]
  },
  {
   "cell_type": "code",
   "execution_count": 3,
   "id": "ece1203d",
   "metadata": {},
   "outputs": [],
   "source": [
    "pptx_path = \"test.pptx\"\n",
    "prs = Presentation(pptx_path)"
   ]
  },
  {
   "cell_type": "code",
   "execution_count": 4,
   "id": "95a53608",
   "metadata": {},
   "outputs": [],
   "source": [
    "def extract_lines(slide):\n",
    "    \"\"\"\n",
    "    Counts and extracts the positions of all line shapes (including arrows and connectors)\n",
    "    from a given PowerPoint slide.\n",
    "\n",
    "    Args:\n",
    "        slide (Slide): A PowerPoint slide object from a .pptx file.\n",
    "\n",
    "    Returns:\n",
    "        tuple:\n",
    "            - line_count (int): The total number of lines found on the slide.\n",
    "            - lines (dict): A dictionary where:\n",
    "                - Key (int): The index of the line shape within the slide.\n",
    "                - Value (tuple): The start and end coordinates of the line in the format (x1, y1, x2, y2), where:\n",
    "                    - (x1, y1): The starting point of the line.\n",
    "                    - (x2, y2): The ending point of the line.\n",
    "    \"\"\"\n",
    "    line_count = 0  # Counter for the number of detected lines\n",
    "    lines = {}  # Dictionary to store extracted line positions\n",
    "\n",
    "    # Iterate through all shapes in the slide\n",
    "    for i, shape in enumerate(slide.shapes):\n",
    "        # Check if the shape is a line (includes arrows and connectors)\n",
    "        if shape.shape_type == MSO_SHAPE_TYPE.LINE:\n",
    "            line_count += 1  # Increment line count\n",
    "\n",
    "            # Explicitly cast shape to Connector type for clarity\n",
    "            shape: Connector = shape  \n",
    "\n",
    "            # Extract start and end coordinates of the line\n",
    "            x1, y1 = shape.begin_x, shape.begin_y  # Start point\n",
    "            x2, y2 = shape.end_x, shape.end_y  # End point\n",
    "\n",
    "            # Store the extracted line coordinates in the dictionary\n",
    "            lines[i] = (x1, y1, x2, y2)\n",
    "\n",
    "    return lines, line_count  # Return the total count and dictionary of lines"
   ]
  },
  {
   "cell_type": "code",
   "execution_count": 6,
   "id": "4078cb64",
   "metadata": {},
   "outputs": [
    {
     "name": "stdout",
     "output_type": "stream",
     "text": [
      "8\n",
      "Line 9: Start(1566054, 427306) → End(1011291, 611780)\n",
      "Line 10: Start(1566054, 427306) → End(2130968, 594001)\n",
      "Line 11: Start(2130968, 778381) → End(2130969, 925145)\n",
      "Line 12: Start(2130969, 1057130) → End(2130969, 1185064)\n",
      "Line 13: Start(1011291, 743765) → End(1011293, 925142)\n",
      "Line 14: Start(1011293, 1057127) → End(1011293, 1185064)\n",
      "Line 15: Start(1011293, 1317049) → End(1325105, 1484708)\n",
      "Line 16: Start(2130969, 1317049) → End(1762932, 1514959)\n",
      "8\n",
      "Line 9: Start(1566054, 427306) → End(1011291, 611780)\n",
      "Line 10: Start(1566054, 427306) → End(2130968, 594001)\n",
      "Line 11: Start(2130968, 778381) → End(2130969, 925145)\n",
      "Line 12: Start(2130969, 1057130) → End(2130969, 1185064)\n",
      "Line 13: Start(1193645, 1368348) → End(959993, 1499401)\n",
      "Line 14: Start(1948617, 1368349) → End(2182269, 1499402)\n",
      "Line 15: Start(1011291, 743765) → End(1011293, 925142)\n",
      "Line 16: Start(1011293, 1057127) → End(1011293, 1185064)\n",
      "0\n",
      "0\n"
     ]
    }
   ],
   "source": [
    "# Run the function\n",
    "for slide_num, slide in enumerate(prs.slides, start=1):\n",
    "    lines, line_count = extract_lines(slide)\n",
    "    print(line_count)\n",
    "    for line_id, (x1, y1, x2, y2) in lines.items():\n",
    "        print(f\"Line {line_id}: Start({x1}, {y1}) → End({x2}, {y2})\")"
   ]
  },
  {
   "cell_type": "markdown",
   "id": "62a6df24",
   "metadata": {},
   "source": [
    "# Plotting for check"
   ]
  },
  {
   "cell_type": "code",
   "execution_count": null,
   "id": "1e8f6056",
   "metadata": {},
   "outputs": [],
   "source": [
    "import matplotlib.pyplot as plt\n",
    "\n",
    "def plot_lines_from_pptx(prs):\n",
    "    \"\"\"\n",
    "    Plots all extracted lines from the PPTX file to verify correct extraction.\n",
    "\n",
    "    Args:\n",
    "        prs: The PowerPoint presentation object.\n",
    "    \"\"\"\n",
    "    plt.figure(figsize=(10, 6))\n",
    "\n",
    "    for slide_num, slide in enumerate(prs.slides, start=1):\n",
    "        lines = extract_lines_positions(slide)  # Extract lines for this slide\n",
    "\n",
    "        for line_id, (x1, y1, x2, y2) in lines.items():\n",
    "            plt.plot([x1, x2], [y1, y2], marker=\"o\", label=f\"Slide {slide_num} Line {line_id}\")\n",
    "\n",
    "        # Flip Y-axis to match PPTX layout (PPTX origin is top-left, matplotlib is bottom-left)\n",
    "        # plt.gca().invert_yaxis()\n",
    "\n",
    "        plt.xlabel(\"X Coordinate\")\n",
    "        plt.ylabel(\"Y Coordinate\")\n",
    "        plt.title(\"Extracted Lines from PPTX\")\n",
    "        plt.legend(loc=\"best\", fontsize=\"small\", markerscale=0.5)  # Legend to identify slides\n",
    "        plt.grid(True)\n",
    "        plt.show()\n",
    "\n",
    "# Run the function to plot all extracted lines\n",
    "plot_lines_from_pptx(prs)"
   ]
  }
 ],
 "metadata": {
  "kernelspec": {
   "display_name": "Python 3 (ipykernel)",
   "language": "python",
   "name": "python3"
  },
  "language_info": {
   "codemirror_mode": {
    "name": "ipython",
    "version": 3
   },
   "file_extension": ".py",
   "mimetype": "text/x-python",
   "name": "python",
   "nbconvert_exporter": "python",
   "pygments_lexer": "ipython3",
   "version": "3.10.9"
  }
 },
 "nbformat": 4,
 "nbformat_minor": 5
}
