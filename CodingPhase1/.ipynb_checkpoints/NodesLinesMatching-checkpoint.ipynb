{
 "cells": [
  {
   "cell_type": "code",
   "execution_count": 1,
   "id": "0bd13fe6",
   "metadata": {},
   "outputs": [],
   "source": [
    "from pptx import Presentation\n",
    "from NodeExtraction import extract_node_boxes\n",
    "from LinesExtraction import extract_lines"
   ]
  },
  {
   "cell_type": "code",
   "execution_count": 2,
   "id": "8c3286d7",
   "metadata": {},
   "outputs": [],
   "source": [
    "pptx_path = \"test.pptx\"\n",
    "prs = Presentation(pptx_path)"
   ]
  },
  {
   "cell_type": "code",
   "execution_count": 3,
   "id": "ce804ea6",
   "metadata": {},
   "outputs": [],
   "source": [
    "def matching_lines_nodes(slide, slide_num):\n",
    "    \"\"\"\n",
    "    Matches each line shape's start and end points to the nearest text box (node)\n",
    "    within a given slide.\n",
    "\n",
    "    Args:\n",
    "        slide: The slide object from the PowerPoint presentation.\n",
    "        slide_num (int): The slide number.\n",
    "\n",
    "    Returns:\n",
    "        tuple:\n",
    "            - sorted_edges (list): A list of tuples (from_text, to_text) representing the matched \n",
    "              connections between text boxes based on line positions, sorted based on `node_boxes` order.\n",
    "            - respondent (str): The top-leftmost text box, often used as an identifier for the slide.\n",
    "            - line_count (int): The total number of line shapes detected on the slide.\n",
    "    \"\"\"\n",
    "    edges = []  # Stores matched edges (connections) between text boxes\n",
    "    node_boxes, respondent, node_count = extract_node_boxes(slide, slide_num)  # Extract nodes with bounding box coordinates\n",
    "    lines, line_count = extract_lines(slide)  # Extract lines from the slide and count them\n",
    "\n",
    "    # Create mappings from node_boxes\n",
    "    node_map = {}  # Maps text → (top, left, right, bottom)\n",
    "    node_order = {}  # Maps text → index (ranking order)\n",
    "\n",
    "    for idx, (_, top, left, right, bottom, text) in enumerate(node_boxes):\n",
    "        node_map[text] = (top, left, right, bottom)  # Store bounding box coordinates for each text label\n",
    "        node_order[text] = idx  # Assign index based on sorted order\n",
    "\n",
    "    # Iterate through all detected lines\n",
    "    for line_id, (x1, y1, x2, y2) in lines.items():\n",
    "        from_text, to_text = None, None  # Initialize the closest text boxes for each line\n",
    "        min_distance_from = float(\"inf\")  # Track the minimum distance for the line's start point\n",
    "        min_distance_to = float(\"inf\")  # Track the minimum distance for the line's end point\n",
    "\n",
    "        # Iterate over all nodes to find the closest match for both start and end points\n",
    "        for text, (top, left, right, bottom) in node_map.items():\n",
    "            # Compute the center point of the text box\n",
    "            center_x = (left + right) / 2\n",
    "            center_y = (top + bottom) / 2\n",
    "\n",
    "            # Calculate Euclidean distances between the line endpoints and the text box center\n",
    "            dist_from = ((center_x - x1) ** 2 + (center_y - y1) ** 2) ** 0.5\n",
    "            dist_to = ((center_x - x2) ** 2 + (center_y - y2) ** 2) ** 0.5\n",
    "\n",
    "            # Update the closest matching text box for the start point\n",
    "            if dist_from < min_distance_from:\n",
    "                from_text = text\n",
    "                min_distance_from = dist_from\n",
    "\n",
    "            # Update the closest matching text box for the end point\n",
    "            if dist_to < min_distance_to:\n",
    "                to_text = text\n",
    "                min_distance_to = dist_to\n",
    "\n",
    "        # Ensure a valid connection (avoid self-connections)\n",
    "        # Reorder nodes to ensure `from_text` appears lower (has a larger Y-coordinate)\n",
    "        # PowerPoint uses an inverted Y-axis, meaning larger Y values are lower on the slide\n",
    "        if from_text and to_text and from_text != to_text:\n",
    "            from_top, _, _, from_bottom = node_map[from_text]\n",
    "            to_top, _, _, to_bottom = node_map[to_text]\n",
    "\n",
    "            # Swap if `to_text` is positioned higher than `from_text`\n",
    "            if to_top > from_top:\n",
    "                from_text, to_text = to_text, from_text\n",
    "\n",
    "            # Append the valid edge (connection)\n",
    "            edges.append((from_text, to_text))\n",
    "    \n",
    "    # Sort edges based on the order of `node_boxes` for logical output\n",
    "    sorted_edges = sorted(edges, key=lambda edge: (node_order.get(edge[0], float(\"inf\")), \n",
    "                                                   node_order.get(edge[1], float(\"inf\"))))\n",
    "\n",
    "    return sorted_edges, respondent, node_count, line_count"
   ]
  },
  {
   "cell_type": "code",
   "execution_count": 4,
   "id": "114f497c",
   "metadata": {},
   "outputs": [
    {
     "name": "stdout",
     "output_type": "stream",
     "text": [
      "Bleecker Alexander has 8 values with 8 edge in total \n",
      "Slide 1 edges: [('General Love\\x0bFriend + Romantic', 'Serenity'), ('Humor', 'Serenity'), ('Intellectualism', 'Humor'), ('Make a Difference', 'General Love\\x0bFriend + Romantic'), ('Accomplishment', 'Intellectualism'), ('Organization', 'Make a Difference'), ('Discipline', 'Accomplishment'), ('Discipline', 'Organization')]\n",
      "Bleecker Alexander has 8 values with 8 edge in total \n",
      "Slide 2 edges: [('General Love\\x0bFriend + Romantic', 'Serenity'), ('Humor', 'Serenity'), ('Intellectualism', 'Humor'), ('Make a Difference', 'General Love\\x0bFriend + Romantic'), ('Accomplishment', 'Intellectualism'), ('Organization', 'Make a Difference')]\n",
      "Laura Tejeda has 0 values with 0 edge in total \n",
      "Slide 3 edges: []\n",
      "None has 0 values with 0 edge in total \n",
      "Slide 4 edges: []\n"
     ]
    }
   ],
   "source": [
    "all_edges = []\n",
    "for slide_num, slide in enumerate(prs.slides, start=1):\n",
    "    sorted_edges, respondent, node_count, line_count = matching_lines_nodes(slide, slide_num)  # Now processes one slide at a time\n",
    "    all_edges.extend(sorted_edges)\n",
    "    print(f\"{respondent} has {node_count} values with {line_count} edge in total \\nSlide {slide_num} edges: {sorted_edges}\")"
   ]
  },
  {
   "cell_type": "code",
   "execution_count": null,
   "id": "8f017116",
   "metadata": {},
   "outputs": [],
   "source": []
  }
 ],
 "metadata": {
  "kernelspec": {
   "display_name": "Python 3 (ipykernel)",
   "language": "python",
   "name": "python3"
  },
  "language_info": {
   "codemirror_mode": {
    "name": "ipython",
    "version": 3
   },
   "file_extension": ".py",
   "mimetype": "text/x-python",
   "name": "python",
   "nbconvert_exporter": "python",
   "pygments_lexer": "ipython3",
   "version": "3.10.9"
  }
 },
 "nbformat": 4,
 "nbformat_minor": 5
}
