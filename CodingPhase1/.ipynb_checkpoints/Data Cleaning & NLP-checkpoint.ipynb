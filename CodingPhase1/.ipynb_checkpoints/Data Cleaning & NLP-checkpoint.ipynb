{
 "cells": [
  {
   "cell_type": "code",
   "execution_count": 31,
   "id": "fae99b63",
   "metadata": {},
   "outputs": [],
   "source": [
    "import pandas as pd\n",
    "import spacy\n",
    "from spellchecker import SpellChecker\n",
    "from sklearn.feature_extraction.text import TfidfVectorizer\n",
    "from sklearn.metrics.pairwise import cosine_similarity\n",
    "from nltk.corpus import wordnet"
   ]
  },
  {
   "cell_type": "code",
   "execution_count": 3,
   "id": "9ebc748b",
   "metadata": {},
   "outputs": [],
   "source": [
    "# Load the English NLP model\n",
    "nlp = spacy.load(\"en_core_web_sm\")"
   ]
  },
  {
   "cell_type": "code",
   "execution_count": 13,
   "id": "e64d75f2",
   "metadata": {},
   "outputs": [],
   "source": [
    "# 加载拼写检查器\n",
    "spell = SpellChecker()"
   ]
  },
  {
   "cell_type": "code",
   "execution_count": 14,
   "id": "b8430ba7",
   "metadata": {},
   "outputs": [],
   "source": [
    "# Step 1: 词形归一化（Lemmatization）\n",
    "def lemmatize_word(word):\n",
    "    doc = nlp(word.lower())\n",
    "    return doc[0].lemma_  # 只取第一个单词的 Lemma"
   ]
  },
  {
   "cell_type": "code",
   "execution_count": 15,
   "id": "9be7796c",
   "metadata": {},
   "outputs": [],
   "source": [
    "# Step 2: 拼写检查（Correct Spelling）\n",
    "def correct_spelling(word):\n",
    "    corrected = spell.correction(word)\n",
    "    return corrected if corrected else word  # 如果拼写检查找不到，就返回原始单词"
   ]
  },
  {
   "cell_type": "code",
   "execution_count": 55,
   "id": "2f515bc7",
   "metadata": {},
   "outputs": [],
   "source": [
    "def get_derivational_root(word):\n",
    "    \"\"\"使用 WordNet 找到派生词的根词（尝试转换为动词或名词）\"\"\"\n",
    "    synsets = wordnet.synsets(word)\n",
    "    \n",
    "    for syn in synsets:\n",
    "        for lemma in syn.lemmas():\n",
    "            related_forms = lemma.derivationally_related_forms()\n",
    "            for related in related_forms:\n",
    "                root_word = related.name()\n",
    "                \n",
    "                related_synsets = wordnet.synsets(root_word)\n",
    "                for related_syn in related_synsets:\n",
    "                    if related_syn.pos() in ['v', 'n']:  # 只接受动词或名词\n",
    "                        return root_word\n",
    "\n",
    "    return word  # 如果找不到更合适的词根，则保持原样"
   ]
  },
  {
   "cell_type": "code",
   "execution_count": 32,
   "id": "438f5bf3",
   "metadata": {},
   "outputs": [],
   "source": [
    "# Step 3: 数据内部的同义词归一化\n",
    "def get_internal_synonyms(values, threshold=0.8):\n",
    "    \"\"\"在数据集中找到相似的单词并归类\"\"\"\n",
    "    vectorizer = TfidfVectorizer()\n",
    "    tfidf_matrix = vectorizer.fit_transform(values)\n",
    "    \n",
    "    # 计算所有单词的余弦相似度\n",
    "    cosine_sim = cosine_similarity(tfidf_matrix)\n",
    "    \n",
    "    # 构建同义词归类映射\n",
    "    synonym_map = {}\n",
    "    words = np.array(values)\n",
    "\n",
    "    for i in range(len(words)):\n",
    "        for j in range(i + 1, len(words)):\n",
    "            if cosine_sim[i, j] > threshold:  # 相似度超过阈值\n",
    "                root_word = words[i]  # 以较短的单词作为基准\n",
    "                synonym_map[words[j]] = root_word  # 归一化\n",
    "\n",
    "    return synonym_map"
   ]
  },
  {
   "cell_type": "code",
   "execution_count": 41,
   "id": "106bb8aa",
   "metadata": {},
   "outputs": [],
   "source": [
    "# Step 4: 清理文本\n",
    "def clean_text(text):\n",
    "    words = text.split()  # 按空格拆分单词\n",
    "    cleaned_words = []\n",
    "    for word in words:\n",
    "        corrected = correct_spelling(word)  # 先拼写检查\n",
    "        lemma = lemmatize_word(corrected)  # 再做 Lemmatization\n",
    "        cleaned_words.append(corrected)\n",
    "    return \" \".join(cleaned_words)  # 重新拼接成句子"
   ]
  },
  {
   "cell_type": "code",
   "execution_count": 42,
   "id": "16101813",
   "metadata": {},
   "outputs": [],
   "source": [
    "# 读取 Excel 文件\n",
    "file_path = \"/Users/jiazhengtian/Desktop/Combined_data.xlsx\"  # 替换成你的文件路径\n",
    "df = pd.read_excel(file_path)"
   ]
  },
  {
   "cell_type": "code",
   "execution_count": 29,
   "id": "7238a8ca",
   "metadata": {},
   "outputs": [],
   "source": [
    "# 组合 From & To 列并去重，获取唯一值\n",
    "values = list(set(df[\"From\"].astype(str)) | set(df[\"To\"].astype(str)))"
   ]
  },
  {
   "cell_type": "code",
   "execution_count": 39,
   "id": "e866ffb5",
   "metadata": {},
   "outputs": [],
   "source": [
    "synonym_map = get_internal_synonyms(values,threshold=0.7)\n",
    "synonym_df = pd.DataFrame(list(synonym_map.items()), columns=[\"Original\", \"Standardized\"])"
   ]
  },
  {
   "cell_type": "code",
   "execution_count": 44,
   "id": "438c2688",
   "metadata": {},
   "outputs": [],
   "source": [
    "# 处理 From 和 To 列\n",
    "df[\"From_Cleaned\"] = df[\"From\"].astype(str).apply(lambda x: clean_text(x))\n",
    "df[\"To_Cleaned\"] = df[\"To\"].astype(str).apply(lambda x: clean_text(x))\n",
    "\n",
    "# 保存到新 Excel 文件\n",
    "output_path = \"cleaned_values.xlsx\"\n",
    "df.to_excel(output_path, index=False)"
   ]
  },
  {
   "cell_type": "code",
   "execution_count": 40,
   "id": "f60a031a",
   "metadata": {},
   "outputs": [
    {
     "data": {
      "text/html": [
       "<div>\n",
       "<style scoped>\n",
       "    .dataframe tbody tr th:only-of-type {\n",
       "        vertical-align: middle;\n",
       "    }\n",
       "\n",
       "    .dataframe tbody tr th {\n",
       "        vertical-align: top;\n",
       "    }\n",
       "\n",
       "    .dataframe thead th {\n",
       "        text-align: right;\n",
       "    }\n",
       "</style>\n",
       "<table border=\"1\" class=\"dataframe\">\n",
       "  <thead>\n",
       "    <tr style=\"text-align: right;\">\n",
       "      <th></th>\n",
       "      <th>Original</th>\n",
       "      <th>Standardized</th>\n",
       "    </tr>\n",
       "  </thead>\n",
       "  <tbody>\n",
       "    <tr>\n",
       "      <th>0</th>\n",
       "      <td>Friendship</td>\n",
       "      <td>friendship</td>\n",
       "    </tr>\n",
       "    <tr>\n",
       "      <th>1</th>\n",
       "      <td>Friends &amp; Family</td>\n",
       "      <td>Family/Friends</td>\n",
       "    </tr>\n",
       "    <tr>\n",
       "      <th>2</th>\n",
       "      <td>Friends + Family</td>\n",
       "      <td>Friends &amp; Family</td>\n",
       "    </tr>\n",
       "    <tr>\n",
       "      <th>3</th>\n",
       "      <td>Family + Friends</td>\n",
       "      <td>Friends + Family</td>\n",
       "    </tr>\n",
       "    <tr>\n",
       "      <th>4</th>\n",
       "      <td>Family &amp; Friends</td>\n",
       "      <td>Family + Friends</td>\n",
       "    </tr>\n",
       "    <tr>\n",
       "      <th>...</th>\n",
       "      <td>...</td>\n",
       "      <td>...</td>\n",
       "    </tr>\n",
       "    <tr>\n",
       "      <th>73</th>\n",
       "      <td>Feeling alive</td>\n",
       "      <td>Feeling Alive</td>\n",
       "    </tr>\n",
       "    <tr>\n",
       "      <th>74</th>\n",
       "      <td>accomplishment</td>\n",
       "      <td>Accomplishment</td>\n",
       "    </tr>\n",
       "    <tr>\n",
       "      <th>75</th>\n",
       "      <td>Happiness</td>\n",
       "      <td>Happiness/Love</td>\n",
       "    </tr>\n",
       "    <tr>\n",
       "      <th>76</th>\n",
       "      <td>Stong Work Ethic</td>\n",
       "      <td>Work Ethic</td>\n",
       "    </tr>\n",
       "    <tr>\n",
       "      <th>77</th>\n",
       "      <td>Golden Rule</td>\n",
       "      <td>Golden rule</td>\n",
       "    </tr>\n",
       "  </tbody>\n",
       "</table>\n",
       "<p>78 rows × 2 columns</p>\n",
       "</div>"
      ],
      "text/plain": [
       "            Original      Standardized\n",
       "0         Friendship        friendship\n",
       "1   Friends & Family    Family/Friends\n",
       "2   Friends + Family  Friends & Family\n",
       "3   Family + Friends  Friends + Family\n",
       "4   Family & Friends  Family + Friends\n",
       "..               ...               ...\n",
       "73     Feeling alive     Feeling Alive\n",
       "74    accomplishment    Accomplishment\n",
       "75         Happiness    Happiness/Love\n",
       "76  Stong Work Ethic        Work Ethic\n",
       "77       Golden Rule       Golden rule\n",
       "\n",
       "[78 rows x 2 columns]"
      ]
     },
     "execution_count": 40,
     "metadata": {},
     "output_type": "execute_result"
    }
   ],
   "source": [
    "synonym_df"
   ]
  },
  {
   "cell_type": "code",
   "execution_count": 45,
   "id": "1d9a7d01",
   "metadata": {},
   "outputs": [
    {
     "data": {
      "text/plain": [
       "'adapt'"
      ]
     },
     "execution_count": 45,
     "metadata": {},
     "output_type": "execute_result"
    }
   ],
   "source": [
    "lemmatize_word(\"adapting\")"
   ]
  },
  {
   "cell_type": "code",
   "execution_count": 53,
   "id": "2029cc48",
   "metadata": {},
   "outputs": [],
   "source": [
    "lemma_word = lemmatize_word(\"adaptability\")"
   ]
  },
  {
   "cell_type": "code",
   "execution_count": 56,
   "id": "baa5d3c9",
   "metadata": {},
   "outputs": [
    {
     "data": {
      "text/plain": [
       "'adaptability'"
      ]
     },
     "execution_count": 56,
     "metadata": {},
     "output_type": "execute_result"
    }
   ],
   "source": [
    "get_derivational_root(lemma_word)"
   ]
  },
  {
   "cell_type": "code",
   "execution_count": null,
   "id": "91f1fb49",
   "metadata": {},
   "outputs": [],
   "source": []
  }
 ],
 "metadata": {
  "kernelspec": {
   "display_name": "Python 3 (ipykernel)",
   "language": "python",
   "name": "python3"
  },
  "language_info": {
   "codemirror_mode": {
    "name": "ipython",
    "version": 3
   },
   "file_extension": ".py",
   "mimetype": "text/x-python",
   "name": "python",
   "nbconvert_exporter": "python",
   "pygments_lexer": "ipython3",
   "version": "3.10.9"
  }
 },
 "nbformat": 4,
 "nbformat_minor": 5
}
