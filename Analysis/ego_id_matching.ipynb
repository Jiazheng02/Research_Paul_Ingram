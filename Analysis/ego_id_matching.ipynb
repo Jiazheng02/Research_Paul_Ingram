{
 "cells": [
  {
   "cell_type": "code",
   "execution_count": 1,
   "metadata": {},
   "outputs": [],
   "source": [
    "import pandas as pd\n",
    "import numpy as np"
   ]
  },
  {
   "cell_type": "code",
   "execution_count": 43,
   "metadata": {},
   "outputs": [],
   "source": [
    "df = pd.read_excel('value structure 2022-2024.xlsx')\n",
    "df_ego = pd.read_excel('/Users/jiazhengtian/Desktop/Research/Paul Ingram_25.2.21/All Values/combined id_ego thru fall 24.xlsx')"
   ]
  },
  {
   "cell_type": "code",
   "execution_count": 44,
   "metadata": {},
   "outputs": [
    {
     "data": {
      "text/html": [
       "<div>\n",
       "<style scoped>\n",
       "    .dataframe tbody tr th:only-of-type {\n",
       "        vertical-align: middle;\n",
       "    }\n",
       "\n",
       "    .dataframe tbody tr th {\n",
       "        vertical-align: top;\n",
       "    }\n",
       "\n",
       "    .dataframe thead th {\n",
       "        text-align: right;\n",
       "    }\n",
       "</style>\n",
       "<table border=\"1\" class=\"dataframe\">\n",
       "  <thead>\n",
       "    <tr style=\"text-align: right;\">\n",
       "      <th></th>\n",
       "      <th>id_ego</th>\n",
       "      <th>Person Name</th>\n",
       "      <th>From</th>\n",
       "      <th>To</th>\n",
       "      <th>NoMeaningfulEdges</th>\n",
       "      <th>Operations</th>\n",
       "      <th>Data</th>\n",
       "    </tr>\n",
       "  </thead>\n",
       "  <tbody>\n",
       "    <tr>\n",
       "      <th>0</th>\n",
       "      <td>7023.0</td>\n",
       "      <td>Josh Adler</td>\n",
       "      <td>strength</td>\n",
       "      <td>ecstasy</td>\n",
       "      <td>1.0</td>\n",
       "      <td>NaN</td>\n",
       "      <td>2022 A</td>\n",
       "    </tr>\n",
       "    <tr>\n",
       "      <th>1</th>\n",
       "      <td>7023.0</td>\n",
       "      <td>Josh Adler</td>\n",
       "      <td>strength</td>\n",
       "      <td>discovery</td>\n",
       "      <td>1.0</td>\n",
       "      <td>NaN</td>\n",
       "      <td>2022 A</td>\n",
       "    </tr>\n",
       "    <tr>\n",
       "      <th>2</th>\n",
       "      <td>7023.0</td>\n",
       "      <td>Josh Adler</td>\n",
       "      <td>strength</td>\n",
       "      <td>bravery</td>\n",
       "      <td>1.0</td>\n",
       "      <td>NaN</td>\n",
       "      <td>2022 A</td>\n",
       "    </tr>\n",
       "    <tr>\n",
       "      <th>3</th>\n",
       "      <td>7023.0</td>\n",
       "      <td>Josh Adler</td>\n",
       "      <td>strength</td>\n",
       "      <td>calm</td>\n",
       "      <td>1.0</td>\n",
       "      <td>NaN</td>\n",
       "      <td>2022 A</td>\n",
       "    </tr>\n",
       "    <tr>\n",
       "      <th>4</th>\n",
       "      <td>7023.0</td>\n",
       "      <td>Josh Adler</td>\n",
       "      <td>calm</td>\n",
       "      <td>connected to the universe</td>\n",
       "      <td>1.0</td>\n",
       "      <td>NaN</td>\n",
       "      <td>2022 A</td>\n",
       "    </tr>\n",
       "  </tbody>\n",
       "</table>\n",
       "</div>"
      ],
      "text/plain": [
       "   id_ego Person Name      From                         To  NoMeaningfulEdges  \\\n",
       "0  7023.0  Josh Adler  strength                    ecstasy                1.0   \n",
       "1  7023.0  Josh Adler  strength                  discovery                1.0   \n",
       "2  7023.0  Josh Adler  strength                    bravery                1.0   \n",
       "3  7023.0  Josh Adler  strength                       calm                1.0   \n",
       "4  7023.0  Josh Adler      calm  connected to the universe                1.0   \n",
       "\n",
       "  Operations    Data  \n",
       "0        NaN  2022 A  \n",
       "1        NaN  2022 A  \n",
       "2        NaN  2022 A  \n",
       "3        NaN  2022 A  \n",
       "4        NaN  2022 A  "
      ]
     },
     "execution_count": 44,
     "metadata": {},
     "output_type": "execute_result"
    }
   ],
   "source": [
    "df.head()"
   ]
  },
  {
   "cell_type": "code",
   "execution_count": 45,
   "metadata": {},
   "outputs": [],
   "source": [
    "missing_id = df[df['id_ego'].isna()][['id_ego', 'Person Name']].drop_duplicates()"
   ]
  },
  {
   "cell_type": "code",
   "execution_count": 46,
   "metadata": {},
   "outputs": [
    {
     "data": {
      "text/html": [
       "<div>\n",
       "<style scoped>\n",
       "    .dataframe tbody tr th:only-of-type {\n",
       "        vertical-align: middle;\n",
       "    }\n",
       "\n",
       "    .dataframe tbody tr th {\n",
       "        vertical-align: top;\n",
       "    }\n",
       "\n",
       "    .dataframe thead th {\n",
       "        text-align: right;\n",
       "    }\n",
       "</style>\n",
       "<table border=\"1\" class=\"dataframe\">\n",
       "  <thead>\n",
       "    <tr style=\"text-align: right;\">\n",
       "      <th></th>\n",
       "      <th>id_ego</th>\n",
       "      <th>Person Name</th>\n",
       "    </tr>\n",
       "  </thead>\n",
       "  <tbody>\n",
       "    <tr>\n",
       "      <th>205</th>\n",
       "      <td>NaN</td>\n",
       "      <td>Jake Recker</td>\n",
       "    </tr>\n",
       "    <tr>\n",
       "      <th>310</th>\n",
       "      <td>NaN</td>\n",
       "      <td>Paulo Humberto Varnieri</td>\n",
       "    </tr>\n",
       "    <tr>\n",
       "      <th>318</th>\n",
       "      <td>NaN</td>\n",
       "      <td>Jake Weiss</td>\n",
       "    </tr>\n",
       "    <tr>\n",
       "      <th>327</th>\n",
       "      <td>NaN</td>\n",
       "      <td>Hugo Fausto Torres-Fetsco</td>\n",
       "    </tr>\n",
       "    <tr>\n",
       "      <th>407</th>\n",
       "      <td>NaN</td>\n",
       "      <td>Lindsey Gitlin</td>\n",
       "    </tr>\n",
       "  </tbody>\n",
       "</table>\n",
       "</div>"
      ],
      "text/plain": [
       "     id_ego                Person Name\n",
       "205     NaN                Jake Recker\n",
       "310     NaN    Paulo Humberto Varnieri\n",
       "318     NaN                 Jake Weiss\n",
       "327     NaN  Hugo Fausto Torres-Fetsco\n",
       "407     NaN             Lindsey Gitlin"
      ]
     },
     "execution_count": 46,
     "metadata": {},
     "output_type": "execute_result"
    }
   ],
   "source": [
    "missing_id.head()"
   ]
  },
  {
   "cell_type": "code",
   "execution_count": 47,
   "metadata": {},
   "outputs": [
    {
     "data": {
      "text/html": [
       "<div>\n",
       "<style scoped>\n",
       "    .dataframe tbody tr th:only-of-type {\n",
       "        vertical-align: middle;\n",
       "    }\n",
       "\n",
       "    .dataframe tbody tr th {\n",
       "        vertical-align: top;\n",
       "    }\n",
       "\n",
       "    .dataframe thead th {\n",
       "        text-align: right;\n",
       "    }\n",
       "</style>\n",
       "<table border=\"1\" class=\"dataframe\">\n",
       "  <thead>\n",
       "    <tr style=\"text-align: right;\">\n",
       "      <th></th>\n",
       "      <th>id_ego</th>\n",
       "      <th>SubjectEmail</th>\n",
       "      <th>Last name</th>\n",
       "      <th>First Name</th>\n",
       "      <th>full name</th>\n",
       "    </tr>\n",
       "  </thead>\n",
       "  <tbody>\n",
       "    <tr>\n",
       "      <th>0</th>\n",
       "      <td>1</td>\n",
       "      <td>mantoniou22@gsb.columbia.edu</td>\n",
       "      <td>NaN</td>\n",
       "      <td>NaN</td>\n",
       "      <td>Michael Antoniou</td>\n",
       "    </tr>\n",
       "    <tr>\n",
       "      <th>1</th>\n",
       "      <td>2</td>\n",
       "      <td>tatwood22@gsb.columbia.edu</td>\n",
       "      <td>NaN</td>\n",
       "      <td>NaN</td>\n",
       "      <td>Taylor Atwood</td>\n",
       "    </tr>\n",
       "    <tr>\n",
       "      <th>2</th>\n",
       "      <td>3</td>\n",
       "      <td>jbaumann22@gsb.columbia.edu</td>\n",
       "      <td>NaN</td>\n",
       "      <td>NaN</td>\n",
       "      <td>Joss Baumann</td>\n",
       "    </tr>\n",
       "    <tr>\n",
       "      <th>3</th>\n",
       "      <td>4</td>\n",
       "      <td>mbennett22@gsb.columbia.edu</td>\n",
       "      <td>NaN</td>\n",
       "      <td>NaN</td>\n",
       "      <td>Michael Bennett</td>\n",
       "    </tr>\n",
       "    <tr>\n",
       "      <th>4</th>\n",
       "      <td>5</td>\n",
       "      <td>paul.e.bird@columbia.edu</td>\n",
       "      <td>NaN</td>\n",
       "      <td>NaN</td>\n",
       "      <td>Paul Bird</td>\n",
       "    </tr>\n",
       "  </tbody>\n",
       "</table>\n",
       "</div>"
      ],
      "text/plain": [
       "   id_ego                  SubjectEmail Last name First Name         full name\n",
       "0       1  mantoniou22@gsb.columbia.edu       NaN        NaN  Michael Antoniou\n",
       "1       2    tatwood22@gsb.columbia.edu       NaN        NaN     Taylor Atwood\n",
       "2       3   jbaumann22@gsb.columbia.edu       NaN        NaN      Joss Baumann\n",
       "3       4   mbennett22@gsb.columbia.edu       NaN        NaN   Michael Bennett\n",
       "4       5      paul.e.bird@columbia.edu       NaN        NaN         Paul Bird"
      ]
     },
     "execution_count": 47,
     "metadata": {},
     "output_type": "execute_result"
    }
   ],
   "source": [
    "df_ego.head()"
   ]
  },
  {
   "cell_type": "markdown",
   "metadata": {},
   "source": [
    "# Name Parsing"
   ]
  },
  {
   "cell_type": "code",
   "execution_count": 48,
   "metadata": {},
   "outputs": [],
   "source": [
    "def name_parser(full_name):\n",
    "    if pd.isna(full_name):\n",
    "        return ('','')\n",
    "    else:\n",
    "        name_parts = full_name.split()\n",
    "        return name_parts[0], name_parts[-1]\n"
   ]
  },
  {
   "cell_type": "code",
   "execution_count": 49,
   "metadata": {},
   "outputs": [],
   "source": [
    "missing_id['first_name'], missing_id['last_name'] = zip(*missing_id['Person Name'].apply(name_parser))\n",
    "df_ego['first_name'], df_ego['last_name'] = zip(*df_ego['full name'].apply(name_parser))"
   ]
  },
  {
   "cell_type": "code",
   "execution_count": 50,
   "metadata": {},
   "outputs": [
    {
     "data": {
      "text/html": [
       "<div>\n",
       "<style scoped>\n",
       "    .dataframe tbody tr th:only-of-type {\n",
       "        vertical-align: middle;\n",
       "    }\n",
       "\n",
       "    .dataframe tbody tr th {\n",
       "        vertical-align: top;\n",
       "    }\n",
       "\n",
       "    .dataframe thead th {\n",
       "        text-align: right;\n",
       "    }\n",
       "</style>\n",
       "<table border=\"1\" class=\"dataframe\">\n",
       "  <thead>\n",
       "    <tr style=\"text-align: right;\">\n",
       "      <th></th>\n",
       "      <th>id_ego</th>\n",
       "      <th>Person Name</th>\n",
       "      <th>first_name</th>\n",
       "      <th>last_name</th>\n",
       "    </tr>\n",
       "  </thead>\n",
       "  <tbody>\n",
       "    <tr>\n",
       "      <th>205</th>\n",
       "      <td>NaN</td>\n",
       "      <td>Jake Recker</td>\n",
       "      <td>Jake</td>\n",
       "      <td>Recker</td>\n",
       "    </tr>\n",
       "    <tr>\n",
       "      <th>310</th>\n",
       "      <td>NaN</td>\n",
       "      <td>Paulo Humberto Varnieri</td>\n",
       "      <td>Paulo</td>\n",
       "      <td>Varnieri</td>\n",
       "    </tr>\n",
       "    <tr>\n",
       "      <th>318</th>\n",
       "      <td>NaN</td>\n",
       "      <td>Jake Weiss</td>\n",
       "      <td>Jake</td>\n",
       "      <td>Weiss</td>\n",
       "    </tr>\n",
       "    <tr>\n",
       "      <th>327</th>\n",
       "      <td>NaN</td>\n",
       "      <td>Hugo Fausto Torres-Fetsco</td>\n",
       "      <td>Hugo</td>\n",
       "      <td>Torres-Fetsco</td>\n",
       "    </tr>\n",
       "    <tr>\n",
       "      <th>407</th>\n",
       "      <td>NaN</td>\n",
       "      <td>Lindsey Gitlin</td>\n",
       "      <td>Lindsey</td>\n",
       "      <td>Gitlin</td>\n",
       "    </tr>\n",
       "  </tbody>\n",
       "</table>\n",
       "</div>"
      ],
      "text/plain": [
       "     id_ego                Person Name first_name      last_name\n",
       "205     NaN                Jake Recker       Jake         Recker\n",
       "310     NaN    Paulo Humberto Varnieri      Paulo       Varnieri\n",
       "318     NaN                 Jake Weiss       Jake          Weiss\n",
       "327     NaN  Hugo Fausto Torres-Fetsco       Hugo  Torres-Fetsco\n",
       "407     NaN             Lindsey Gitlin    Lindsey         Gitlin"
      ]
     },
     "execution_count": 50,
     "metadata": {},
     "output_type": "execute_result"
    }
   ],
   "source": [
    "missing_id.head()"
   ]
  },
  {
   "cell_type": "code",
   "execution_count": 51,
   "metadata": {},
   "outputs": [
    {
     "data": {
      "text/html": [
       "<div>\n",
       "<style scoped>\n",
       "    .dataframe tbody tr th:only-of-type {\n",
       "        vertical-align: middle;\n",
       "    }\n",
       "\n",
       "    .dataframe tbody tr th {\n",
       "        vertical-align: top;\n",
       "    }\n",
       "\n",
       "    .dataframe thead th {\n",
       "        text-align: right;\n",
       "    }\n",
       "</style>\n",
       "<table border=\"1\" class=\"dataframe\">\n",
       "  <thead>\n",
       "    <tr style=\"text-align: right;\">\n",
       "      <th></th>\n",
       "      <th>id_ego</th>\n",
       "      <th>SubjectEmail</th>\n",
       "      <th>Last name</th>\n",
       "      <th>First Name</th>\n",
       "      <th>full name</th>\n",
       "      <th>first_name</th>\n",
       "      <th>last_name</th>\n",
       "    </tr>\n",
       "  </thead>\n",
       "  <tbody>\n",
       "    <tr>\n",
       "      <th>0</th>\n",
       "      <td>1</td>\n",
       "      <td>mantoniou22@gsb.columbia.edu</td>\n",
       "      <td>NaN</td>\n",
       "      <td>NaN</td>\n",
       "      <td>Michael Antoniou</td>\n",
       "      <td>Michael</td>\n",
       "      <td>Antoniou</td>\n",
       "    </tr>\n",
       "    <tr>\n",
       "      <th>1</th>\n",
       "      <td>2</td>\n",
       "      <td>tatwood22@gsb.columbia.edu</td>\n",
       "      <td>NaN</td>\n",
       "      <td>NaN</td>\n",
       "      <td>Taylor Atwood</td>\n",
       "      <td>Taylor</td>\n",
       "      <td>Atwood</td>\n",
       "    </tr>\n",
       "    <tr>\n",
       "      <th>2</th>\n",
       "      <td>3</td>\n",
       "      <td>jbaumann22@gsb.columbia.edu</td>\n",
       "      <td>NaN</td>\n",
       "      <td>NaN</td>\n",
       "      <td>Joss Baumann</td>\n",
       "      <td>Joss</td>\n",
       "      <td>Baumann</td>\n",
       "    </tr>\n",
       "    <tr>\n",
       "      <th>3</th>\n",
       "      <td>4</td>\n",
       "      <td>mbennett22@gsb.columbia.edu</td>\n",
       "      <td>NaN</td>\n",
       "      <td>NaN</td>\n",
       "      <td>Michael Bennett</td>\n",
       "      <td>Michael</td>\n",
       "      <td>Bennett</td>\n",
       "    </tr>\n",
       "    <tr>\n",
       "      <th>4</th>\n",
       "      <td>5</td>\n",
       "      <td>paul.e.bird@columbia.edu</td>\n",
       "      <td>NaN</td>\n",
       "      <td>NaN</td>\n",
       "      <td>Paul Bird</td>\n",
       "      <td>Paul</td>\n",
       "      <td>Bird</td>\n",
       "    </tr>\n",
       "  </tbody>\n",
       "</table>\n",
       "</div>"
      ],
      "text/plain": [
       "   id_ego                  SubjectEmail Last name First Name  \\\n",
       "0       1  mantoniou22@gsb.columbia.edu       NaN        NaN   \n",
       "1       2    tatwood22@gsb.columbia.edu       NaN        NaN   \n",
       "2       3   jbaumann22@gsb.columbia.edu       NaN        NaN   \n",
       "3       4   mbennett22@gsb.columbia.edu       NaN        NaN   \n",
       "4       5      paul.e.bird@columbia.edu       NaN        NaN   \n",
       "\n",
       "          full name first_name last_name  \n",
       "0  Michael Antoniou    Michael  Antoniou  \n",
       "1     Taylor Atwood     Taylor    Atwood  \n",
       "2      Joss Baumann       Joss   Baumann  \n",
       "3   Michael Bennett    Michael   Bennett  \n",
       "4         Paul Bird       Paul      Bird  "
      ]
     },
     "execution_count": 51,
     "metadata": {},
     "output_type": "execute_result"
    }
   ],
   "source": [
    "df_ego.head()"
   ]
  },
  {
   "cell_type": "code",
   "execution_count": 60,
   "metadata": {},
   "outputs": [
    {
     "name": "stderr",
     "output_type": "stream",
     "text": [
      "/var/folders/pj/csflcfl13v78mjmgbc3k8k3r0000gn/T/ipykernel_30165/3607866485.py:2: SettingWithCopyWarning: \n",
      "A value is trying to be set on a copy of a slice from a DataFrame.\n",
      "Try using .loc[row_indexer,col_indexer] = value instead\n",
      "\n",
      "See the caveats in the documentation: https://pandas.pydata.org/pandas-docs/stable/user_guide/indexing.html#returning-a-view-versus-a-copy\n",
      "  id_lookup['id_ego'] = id_lookup['id_ego'].astype(str)\n"
     ]
    }
   ],
   "source": [
    "id_lookup = df_ego.dropna(subset=['id_ego', 'full name', 'first_name', 'last_name'])\n",
    "id_lookup['id_ego'] = id_lookup['id_ego'].astype(str)\n",
    "\n",
    "lookup_dict = {\n",
    "    (row['last_name'].strip().lower(), row['first_name'].strip().lower()): (row['id_ego'], row['full name'])\n",
    "    for _, row in id_lookup.iterrows()\n",
    "}"
   ]
  },
  {
   "cell_type": "code",
   "execution_count": 62,
   "metadata": {},
   "outputs": [],
   "source": [
    "def matching(row):\n",
    "    key = (row['last_name'].strip().lower(), row['first_name'].strip().lower())\n",
    "    match = lookup_dict.get(key, (None, None))\n",
    "    return pd.Series(match, index=['matched_id', 'matched_full_name'])\n",
    "\n",
    "missing_id[['matched_id', 'matched_full_name']] = missing_id.apply(matching, axis=1)"
   ]
  },
  {
   "cell_type": "code",
   "execution_count": 58,
   "metadata": {},
   "outputs": [
    {
     "data": {
      "text/plain": [
       "id_ego         104\n",
       "Person Name      0\n",
       "first_name       0\n",
       "last_name        0\n",
       "matched_id      65\n",
       "dtype: int64"
      ]
     },
     "execution_count": 58,
     "metadata": {},
     "output_type": "execute_result"
    }
   ],
   "source": [
    "missing_id.isna().sum()"
   ]
  },
  {
   "cell_type": "code",
   "execution_count": 63,
   "metadata": {},
   "outputs": [],
   "source": [
    "missing_id.to_excel('missing_id_matched.xlsx', index=False)"
   ]
  },
  {
   "cell_type": "code",
   "execution_count": null,
   "metadata": {},
   "outputs": [],
   "source": []
  }
 ],
 "metadata": {
  "kernelspec": {
   "display_name": "base",
   "language": "python",
   "name": "python3"
  },
  "language_info": {
   "codemirror_mode": {
    "name": "ipython",
    "version": 3
   },
   "file_extension": ".py",
   "mimetype": "text/x-python",
   "name": "python",
   "nbconvert_exporter": "python",
   "pygments_lexer": "ipython3",
   "version": "3.12.2"
  }
 },
 "nbformat": 4,
 "nbformat_minor": 2
}
